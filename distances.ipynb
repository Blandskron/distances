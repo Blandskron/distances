{
  "cells": [
    {
      "cell_type": "markdown",
      "metadata": {
        "id": "view-in-github",
        "colab_type": "text"
      },
      "source": [
        "<a href=\"https://colab.research.google.com/github/Blandskron/distances/blob/main/distances.ipynb\" target=\"_parent\"><img src=\"https://colab.research.google.com/assets/colab-badge.svg\" alt=\"Open In Colab\"/></a>"
      ]
    },
    {
      "cell_type": "markdown",
      "source": [
        "# Cálculo de distancias de vectores con NumPy"
      ],
      "metadata": {
        "id": "cWRfYFSJPWOY"
      }
    },
    {
      "cell_type": "markdown",
      "source": [
        "## Importar NumPy y cargar vectores"
      ],
      "metadata": {
        "id": "60-iW1o6PM2D"
      }
    },
    {
      "cell_type": "code",
      "execution_count": 1,
      "outputs": [],
      "source": [
        "import numpy as np"
      ],
      "metadata": {
        "pycharm": {
          "name": "#%%\n"
        },
        "id": "I0BwH8n4O0lV"
      }
    },
    {
      "cell_type": "code",
      "execution_count": 2,
      "outputs": [],
      "source": [
        "gato = np.array([0.9, 0.8, 0.2])\n",
        "perro = np.array([0.8, 0.85, 0.15])\n",
        "computadora = np.array([0.1, 0.3, 0.9])"
      ],
      "metadata": {
        "pycharm": {
          "name": "#%%\n"
        },
        "id": "E3rSz1hGO0lW"
      }
    },
    {
      "cell_type": "markdown",
      "source": [
        "## Dot product"
      ],
      "metadata": {
        "collapsed": false,
        "pycharm": {
          "name": "#%% md\n"
        },
        "id": "rYhTz4q8O0lX"
      }
    },
    {
      "cell_type": "code",
      "execution_count": 3,
      "outputs": [
        {
          "output_type": "stream",
          "name": "stdout",
          "text": [
            "Producto punto gato-perro:  1.4300000000000002\n",
            "Producto punto gato-computadora:  0.51\n"
          ]
        }
      ],
      "source": [
        "dot_product_gato_perro = np.dot(gato,perro)\n",
        "dot_product_gato_computadora = np.dot(gato, computadora)\n",
        "\n",
        "print('Producto punto gato-perro: ', dot_product_gato_perro )\n",
        "print('Producto punto gato-computadora: ',dot_product_gato_computadora )\n"
      ],
      "metadata": {
        "pycharm": {
          "name": "#%%\n"
        },
        "id": "QVWTk69SO0lY",
        "colab": {
          "base_uri": "https://localhost:8080/"
        },
        "outputId": "f7e965db-8e62-4c40-8d15-e024773df006"
      }
    },
    {
      "cell_type": "markdown",
      "source": [
        "## Euclidean distance"
      ],
      "metadata": {
        "collapsed": false,
        "pycharm": {
          "name": "#%% md\n"
        },
        "id": "ozM8DAc3O0lZ"
      }
    },
    {
      "cell_type": "code",
      "execution_count": 4,
      "outputs": [
        {
          "output_type": "stream",
          "name": "stdout",
          "text": [
            "0.12247448713915887\n"
          ]
        }
      ],
      "source": [
        "euclidean_distance = np.linalg.norm(gato-perro)\n",
        "\n",
        "print(euclidean_distance)"
      ],
      "metadata": {
        "pycharm": {
          "name": "#%%\n"
        },
        "id": "YpHLRl4xO0lZ",
        "colab": {
          "base_uri": "https://localhost:8080/"
        },
        "outputId": "1c99b559-534b-4a00-aee4-32e95f6f54db"
      }
    },
    {
      "cell_type": "code",
      "source": [
        "euclidean_distance = np.linalg.norm(gato-computadora)\n",
        "\n",
        "print(euclidean_distance)"
      ],
      "metadata": {
        "colab": {
          "base_uri": "https://localhost:8080/"
        },
        "id": "Tt2ttkF1RHww",
        "outputId": "4d84d2ce-b41a-4c70-eb3c-da3800311b5a"
      },
      "execution_count": 5,
      "outputs": [
        {
          "output_type": "stream",
          "name": "stdout",
          "text": [
            "1.174734012447073\n"
          ]
        }
      ]
    },
    {
      "cell_type": "markdown",
      "source": [
        "## Cosine similarity"
      ],
      "metadata": {
        "collapsed": false,
        "pycharm": {
          "name": "#%% md\n"
        },
        "id": "PUCbNs9cO0la"
      }
    },
    {
      "cell_type": "code",
      "execution_count": 6,
      "outputs": [
        {
          "output_type": "stream",
          "name": "stdout",
          "text": [
            "0.9954467122628464\n"
          ]
        }
      ],
      "source": [
        "dot_product = np.dot(gato, perro)\n",
        "\n",
        "norm_gato = np.linalg.norm(gato)\n",
        "norm_perro = np.linalg.norm(perro)\n",
        "\n",
        "cosine_similarity = dot_product / (norm_gato * norm_perro)\n",
        "print(cosine_similarity)"
      ],
      "metadata": {
        "pycharm": {
          "name": "#%%\n"
        },
        "id": "QuWfDgyMO0la",
        "colab": {
          "base_uri": "https://localhost:8080/"
        },
        "outputId": "9a620a0f-c163-4d53-95d5-350ced239d4b"
      }
    },
    {
      "cell_type": "code",
      "source": [
        "1-cosine_similarity"
      ],
      "metadata": {
        "colab": {
          "base_uri": "https://localhost:8080/"
        },
        "id": "F-g-z856RbAW",
        "outputId": "ef6d6bc4-b249-4b7c-a2f9-7519d2cc6015"
      },
      "execution_count": 7,
      "outputs": [
        {
          "output_type": "execute_result",
          "data": {
            "text/plain": [
              "0.004553287737153577"
            ]
          },
          "metadata": {},
          "execution_count": 7
        }
      ]
    }
  ],
  "metadata": {
    "kernelspec": {
      "display_name": "Python 3",
      "language": "python",
      "name": "python3"
    },
    "language_info": {
      "codemirror_mode": {
        "name": "ipython",
        "version": 2
      },
      "file_extension": ".py",
      "mimetype": "text/x-python",
      "name": "python",
      "nbconvert_exporter": "python",
      "pygments_lexer": "ipython2",
      "version": "2.7.6"
    },
    "colab": {
      "provenance": [],
      "include_colab_link": true
    }
  },
  "nbformat": 4,
  "nbformat_minor": 0
}